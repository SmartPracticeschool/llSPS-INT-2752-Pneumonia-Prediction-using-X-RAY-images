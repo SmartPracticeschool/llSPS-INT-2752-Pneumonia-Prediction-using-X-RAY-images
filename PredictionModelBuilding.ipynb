{
 "cells": [
  {
   "cell_type": "code",
   "execution_count": 1,
   "metadata": {},
   "outputs": [
    {
     "name": "stderr",
     "output_type": "stream",
     "text": [
      "Using TensorFlow backend.\n"
     ]
    }
   ],
   "source": [
    "from keras.models import Sequential\n",
    "from keras.layers import Dense\n",
    "from keras.layers import Convolution2D\n",
    "from keras.layers import MaxPooling2D\n",
    "from keras.layers import Flatten"
   ]
  },
  {
   "cell_type": "code",
   "execution_count": 2,
   "metadata": {},
   "outputs": [],
   "source": [
    "from keras.preprocessing.image import ImageDataGenerator\n",
    "train_datagen=ImageDataGenerator(rescale=1./255,shear_range=0.2,zoom_range=0.2,horizontal_flip=True)\n",
    "test_datagen=ImageDataGenerator(rescale=1./255)"
   ]
  },
  {
   "cell_type": "code",
   "execution_count": 3,
   "metadata": {
    "scrolled": true
   },
   "outputs": [
    {
     "name": "stdout",
     "output_type": "stream",
     "text": [
      "Found 190 images belonging to 2 classes.\n",
      "Found 85 images belonging to 2 classes.\n"
     ]
    }
   ],
   "source": [
    "x_train=train_datagen.flow_from_directory(\"/home/ubuntu/Desktop/ML/project/llSPS-INT-2404-Pneumonia-Prediction-using-X-RAY-images/train\",target_size=(64,64),batch_size=32,class_mode=\"binary\")\n",
    "x_test=test_datagen.flow_from_directory(\"/home/ubuntu/Desktop/ML/project/llSPS-INT-2404-Pneumonia-Prediction-using-X-RAY-images/test\",target_size=(64,64),batch_size=32,class_mode=\"binary\")"
   ]
  },
  {
   "cell_type": "code",
   "execution_count": 4,
   "metadata": {},
   "outputs": [
    {
     "data": {
      "text/plain": [
       "{'train set-normal': 0, 'train set-pneumonia': 1}"
      ]
     },
     "execution_count": 4,
     "metadata": {},
     "output_type": "execute_result"
    }
   ],
   "source": [
    "x_train.class_indices"
   ]
  },
  {
   "cell_type": "code",
   "execution_count": 5,
   "metadata": {},
   "outputs": [],
   "source": [
    "model=Sequential()"
   ]
  },
  {
   "cell_type": "code",
   "execution_count": 6,
   "metadata": {},
   "outputs": [],
   "source": [
    "model.add(Convolution2D(32,(3,3),input_shape=(64,64,3),activation=\"relu\"))"
   ]
  },
  {
   "cell_type": "code",
   "execution_count": 7,
   "metadata": {},
   "outputs": [],
   "source": [
    "model.add(MaxPooling2D(pool_size=(2,2)))"
   ]
  },
  {
   "cell_type": "code",
   "execution_count": 8,
   "metadata": {},
   "outputs": [],
   "source": [
    "model.add(Flatten())"
   ]
  },
  {
   "cell_type": "code",
   "execution_count": 9,
   "metadata": {},
   "outputs": [
    {
     "name": "stderr",
     "output_type": "stream",
     "text": [
      "/home/ubuntu/venv/local/lib/python3.7/site-packages/ipykernel_launcher.py:1: UserWarning: Update your `Dense` call to the Keras 2 API: `Dense(units=128, activation=\"relu\", kernel_initializer=\"uniform\")`\n",
      "  \"\"\"Entry point for launching an IPython kernel.\n"
     ]
    }
   ],
   "source": [
    "model.add(Dense(units=128,init=\"uniform\",activation=\"relu\"))#input layer"
   ]
  },
  {
   "cell_type": "code",
   "execution_count": 10,
   "metadata": {},
   "outputs": [
    {
     "name": "stderr",
     "output_type": "stream",
     "text": [
      "/home/ubuntu/venv/local/lib/python3.7/site-packages/ipykernel_launcher.py:1: UserWarning: Update your `Dense` call to the Keras 2 API: `Dense(units=1, activation=\"sigmoid\", kernel_initializer=\"uniform\")`\n",
      "  \"\"\"Entry point for launching an IPython kernel.\n"
     ]
    }
   ],
   "source": [
    "model.add(Dense(units=1,init=\"uniform\",activation=\"sigmoid\"))#output layer"
   ]
  },
  {
   "cell_type": "code",
   "execution_count": 11,
   "metadata": {},
   "outputs": [],
   "source": [
    "model.compile(optimizer=\"adam\",loss=\"binary_crossentropy\",metrics=[\"accuracy\"])"
   ]
  },
  {
   "cell_type": "code",
   "execution_count": 12,
   "metadata": {},
   "outputs": [
    {
     "name": "stdout",
     "output_type": "stream",
     "text": [
      "Epoch 1/10\n",
      "10/10 [==============================] - 17s 2s/step - loss: 0.9419 - accuracy: 0.5063 - val_loss: 0.6893 - val_accuracy: 0.6045\n",
      "Epoch 2/10\n",
      "10/10 [==============================] - 18s 2s/step - loss: 0.7101 - accuracy: 0.5253 - val_loss: 0.6894 - val_accuracy: 0.5293\n",
      "Epoch 3/10\n",
      "10/10 [==============================] - 17s 2s/step - loss: 0.6984 - accuracy: 0.5506 - val_loss: 0.7006 - val_accuracy: 0.4725\n",
      "Epoch 4/10\n",
      "10/10 [==============================] - 15s 1s/step - loss: 0.6846 - accuracy: 0.5285 - val_loss: 0.7042 - val_accuracy: 0.4390\n",
      "Epoch 5/10\n",
      "10/10 [==============================] - 18s 2s/step - loss: 0.6775 - accuracy: 0.6069 - val_loss: 0.6731 - val_accuracy: 0.7176\n",
      "Epoch 6/10\n",
      "10/10 [==============================] - 17s 2s/step - loss: 0.6533 - accuracy: 0.7722 - val_loss: 0.6440 - val_accuracy: 0.7123\n",
      "Epoch 7/10\n",
      "10/10 [==============================] - 14s 1s/step - loss: 0.6159 - accuracy: 0.7468 - val_loss: 0.6385 - val_accuracy: 0.5645\n",
      "Epoch 8/10\n",
      "10/10 [==============================] - 20s 2s/step - loss: 0.5438 - accuracy: 0.8082 - val_loss: 0.5365 - val_accuracy: 0.9041\n",
      "Epoch 9/10\n",
      "10/10 [==============================] - 18s 2s/step - loss: 0.4756 - accuracy: 0.8259 - val_loss: 0.4372 - val_accuracy: 0.8863\n",
      "Epoch 10/10\n",
      "10/10 [==============================] - 15s 1s/step - loss: 0.4253 - accuracy: 0.8491 - val_loss: 0.4477 - val_accuracy: 0.7718\n"
     ]
    },
    {
     "data": {
      "text/plain": [
       "<keras.callbacks.callbacks.History at 0x7f8118279d50>"
      ]
     },
     "execution_count": 12,
     "metadata": {},
     "output_type": "execute_result"
    }
   ],
   "source": [
    "model.fit_generator(x_train,steps_per_epoch=10,epochs=10,validation_data=x_test,validation_steps=20)"
   ]
  },
  {
   "cell_type": "code",
   "execution_count": 13,
   "metadata": {},
   "outputs": [],
   "source": [
    "model.save(\"pneumonia.h5\")"
   ]
  },
  {
   "cell_type": "code",
   "execution_count": null,
   "metadata": {},
   "outputs": [],
   "source": []
  }
 ],
 "metadata": {
  "kernelspec": {
   "display_name": "Python 3",
   "language": "python",
   "name": "python3"
  },
  "language_info": {
   "codemirror_mode": {
    "name": "ipython",
    "version": 3
   },
   "file_extension": ".py",
   "mimetype": "text/x-python",
   "name": "python",
   "nbconvert_exporter": "python",
   "pygments_lexer": "ipython3",
   "version": "3.7.5"
  }
 },
 "nbformat": 4,
 "nbformat_minor": 4
}
